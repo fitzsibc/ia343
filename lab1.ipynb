{
 "cells": [
  {
   "cell_type": "code",
   "execution_count": 1,
   "id": "a6e21f63-8173-448b-854e-3994e7807bb1",
   "metadata": {},
   "outputs": [],
   "source": [
    "#importing the data"
   ]
  },
  {
   "cell_type": "code",
   "execution_count": 4,
   "id": "bf09556e-6a33-45f1-a093-ccf062cfce91",
   "metadata": {},
   "outputs": [],
   "source": [
    "    import warnings, requests, zipfile, io\n",
    "    warnings.simplefilter('ignore')\n",
    "    import pandas as pd\n",
    "    from scipy.io import arff"
   ]
  },
  {
   "cell_type": "code",
   "execution_count": 7,
   "id": "81b4c6b9-2eda-4dc7-b703-f616596c3778",
   "metadata": {},
   "outputs": [],
   "source": [
    "    f_zip = 'http://archive.ics.uci.edu/ml/machine-learning-databases/00212/vertebral_column_data.zip'\n",
    "    r = requests.get(f_zip, stream=True)\n",
    "    Vertebral_zip = zipfile.ZipFile(io.BytesIO(r.content))\n",
    "    Vertebral_zip.extractall()"
   ]
  },
  {
   "cell_type": "code",
   "execution_count": null,
   "id": "dee24bc8-2798-4598-af3f-d8b3cd4bcebc",
   "metadata": {},
   "outputs": [],
   "source": []
  }
 ],
 "metadata": {
  "kernelspec": {
   "display_name": "conda_python3",
   "language": "python",
   "name": "conda_python3"
  },
  "language_info": {
   "codemirror_mode": {
    "name": "ipython",
    "version": 3
   },
   "file_extension": ".py",
   "mimetype": "text/x-python",
   "name": "python",
   "nbconvert_exporter": "python",
   "pygments_lexer": "ipython3",
   "version": "3.10.18"
  }
 },
 "nbformat": 4,
 "nbformat_minor": 5
}
